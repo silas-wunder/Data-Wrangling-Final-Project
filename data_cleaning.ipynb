{
 "cells": [
  {
   "cell_type": "markdown",
   "metadata": {},
   "source": [
    "Basic imports ahead of time"
   ]
  },
  {
   "cell_type": "code",
   "execution_count": 1,
   "metadata": {},
   "outputs": [],
   "source": [
    "import pandas as pd\n",
    "import numpy as np\n",
    "import urllib.request\n",
    "import bz2\n",
    "import re\n",
    "import threading\n",
    "import gc\n"
   ]
  },
  {
   "cell_type": "markdown",
   "metadata": {},
   "source": [
    "Here we define a some functions to parse a pgn file for different features, using a modifiable array input so we can run these in parallel.\n"
   ]
  },
  {
   "cell_type": "code",
   "execution_count": 2,
   "metadata": {},
   "outputs": [],
   "source": [
    "def parse_events(f, out):\n",
    "    events = np.array(\n",
    "        [\n",
    "            x.split(b'\"')[1].split(b\" \")[1].decode(\"UTF-8\")\n",
    "            for x in re.findall(b\"\\[Event.*\\]\", f)\n",
    "        ]\n",
    "    )\n",
    "    out.append(events)\n",
    "\n",
    "\n",
    "def parse_results(f, out):\n",
    "    results = np.array(\n",
    "        [x.split(b'\"')[1].decode(\"UTF-8\") for x in re.findall(b\"\\[Result.*\\]\", f)]\n",
    "    )\n",
    "    out.append(results)\n",
    "\n",
    "\n",
    "def parse_white_ELO(f, out):\n",
    "    whiteELOs = np.array(\n",
    "        [\n",
    "            int(x.split(b'\"')[1]) if x.split(b'\"')[1] != b\"?\" else 0\n",
    "            for x in re.findall(b\"\\[WhiteElo.*\\]\", f)\n",
    "        ]\n",
    "    )\n",
    "    out.append(whiteELOs)\n",
    "\n",
    "\n",
    "def parse_black_ELO(f, out):\n",
    "    blackELOs = np.array(\n",
    "        [\n",
    "            int(x.split(b'\"')[1]) if x.split(b'\"')[1] != b\"?\" else 0\n",
    "            for x in re.findall(b\"\\[BlackElo.*\\]\", f)\n",
    "        ]\n",
    "    )\n",
    "    out.append(blackELOs)\n",
    "\n",
    "\n",
    "def parse_move_nums(f, out):\n",
    "    moveNums = np.array(\n",
    "        [\n",
    "            (\n",
    "                0\n",
    "                if len(re.findall(b\"\\d+\\.\", x[0])) == 0\n",
    "                else int(re.findall(b\"\\d+\\.\", x[0])[-1][:-1])\n",
    "            )\n",
    "            for x in re.findall(b\"(\\]\\\\n\\\\n.*?(0-1|1-0|1/2-1/2))\", f)\n",
    "        ]\n",
    "    )\n",
    "    out.append(moveNums)\n"
   ]
  },
  {
   "cell_type": "markdown",
   "metadata": {},
   "source": [
    "Here we'll grab the file directly from Lichess' database and decompress it into a byte string to use later. We also delete the very large decompressed file explicity, just in case python decides not to do garbage collection when we want it to."
   ]
  },
  {
   "cell_type": "code",
   "execution_count": 3,
   "metadata": {},
   "outputs": [],
   "source": [
    "with urllib.request.urlopen(\n",
    "    \"https://database.lichess.org/standard/lichess_db_standard_rated_2015-12.pgn.bz2\"\n",
    ") as f:\n",
    "    decompressed = bz2.BZ2File(f, \"r\")\n",
    "    bString = decompressed.read()\n",
    "    del decompressed\n",
    "    gc.collect()\n"
   ]
  },
  {
   "cell_type": "markdown",
   "metadata": {},
   "source": [
    "Once we have the byte string, we will run all our parsing functions in parallel and send the outputs to some basic mutable lists. Once that is done, we change the categorical variables to be represented as integers for nicer storage and compression."
   ]
  },
  {
   "cell_type": "code",
   "execution_count": 4,
   "metadata": {},
   "outputs": [],
   "source": [
    "events = []\n",
    "results = []\n",
    "whiteELOs = []\n",
    "blackELOs = []\n",
    "moveNums = []\n",
    "\n",
    "events_thread = threading.Thread(\n",
    "    target=parse_events,\n",
    "    args=(\n",
    "        bString,\n",
    "        events,\n",
    "    ),\n",
    ")\n",
    "results_thread = threading.Thread(\n",
    "    target=parse_results,\n",
    "    args=(\n",
    "        bString,\n",
    "        results,\n",
    "    ),\n",
    ")\n",
    "whiteELOs_thread = threading.Thread(\n",
    "    target=parse_white_ELO,\n",
    "    args=(\n",
    "        bString,\n",
    "        whiteELOs,\n",
    "    ),\n",
    ")\n",
    "blackELOs_thread = threading.Thread(\n",
    "    target=parse_black_ELO,\n",
    "    args=(\n",
    "        bString,\n",
    "        blackELOs,\n",
    "    ),\n",
    ")\n",
    "moveNums_thread = threading.Thread(\n",
    "    target=parse_move_nums,\n",
    "    args=(\n",
    "        bString,\n",
    "        moveNums,\n",
    "    ),\n",
    ")\n",
    "\n",
    "events_thread.start()\n",
    "results_thread.start()\n",
    "whiteELOs_thread.start()\n",
    "blackELOs_thread.start()\n",
    "moveNums_thread.start()\n",
    "\n",
    "events_thread.join()\n",
    "results_thread.join()\n",
    "whiteELOs_thread.join()\n",
    "blackELOs_thread.join()\n",
    "moveNums_thread.join()\n",
    "\n",
    "\n",
    "events = events[0]\n",
    "events[events == 'Blitz'] = 0\n",
    "events[events == 'Bullet'] = 1\n",
    "events[events == 'Classical'] = 2\n",
    "events[events == 'Correspondence'] = 3\n",
    "\n",
    "results = results[0]\n",
    "results[results == '1-0'] = 0\n",
    "results[results == '0-1'] = 1\n",
    "results[results == '1/2-1/2'] = 2\n",
    "\n",
    "whiteELOs = whiteELOs[0]\n",
    "blackELOs = blackELOs[0]\n",
    "moveNums = moveNums[0]\n"
   ]
  },
  {
   "cell_type": "markdown",
   "metadata": {},
   "source": [
    "Once we have all our data in arrays, we stack them together and make a dataframe from this data. Data types were selected to be as small as possible to allow for maximum efficiency in compression. We also drop any games with 0 or 1 moves, as these won't assist our analysis later, and reset the index to remove superfluous data. Lastly, we pack it to .pickle file, which allows for very efficient direct representation of python objects."
   ]
  },
  {
   "cell_type": "code",
   "execution_count": 15,
   "metadata": {},
   "outputs": [],
   "source": [
    "all_data = np.vstack((events, results, whiteELOs, blackELOs, moveNums)).T\n",
    "df = pd.DataFrame(\n",
    "    all_data,\n",
    "    columns=[\n",
    "        \"Game Type\",\n",
    "        \"Result\",\n",
    "        \"White ELO\",\n",
    "        \"Black ELO\",\n",
    "        \"Moves\",\n",
    "    ],\n",
    ")\n",
    "df = df.astype(\n",
    "    {\n",
    "        \"Game Type\": \"uint8\",\n",
    "        \"Result\": \"uint8\",\n",
    "        \"White ELO\": \"uint16\",\n",
    "        \"Black ELO\": \"uint16\",\n",
    "        \"Moves\": \"uint8\",\n",
    "    },\n",
    ")\n",
    "# drop 0 or 1 move games ahead of time, these won't help in any analysis\n",
    "df.drop(df.loc[df[\"Moves\"] <= 1].index, inplace=True)\n",
    "df.reset_index(drop=True, inplace=True)\n",
    "df.to_pickle(\"./Chess_Data.pickle\")\n"
   ]
  },
  {
   "cell_type": "markdown",
   "metadata": {},
   "source": [
    "Let's check to make sure everything looks right, and see how much memory we use."
   ]
  },
  {
   "cell_type": "code",
   "execution_count": 16,
   "metadata": {},
   "outputs": [
    {
     "name": "stdout",
     "output_type": "stream",
     "text": [
      "<class 'pandas.core.frame.DataFrame'>\n",
      "RangeIndex: 4058901 entries, 0 to 4058900\n",
      "Data columns (total 5 columns):\n",
      " #   Column     Dtype \n",
      "---  ------     ----- \n",
      " 0   Game Type  uint8 \n",
      " 1   Result     uint8 \n",
      " 2   White ELO  uint16\n",
      " 3   Black ELO  uint16\n",
      " 4   Moves      uint8 \n",
      "dtypes: uint16(2), uint8(3)\n",
      "memory usage: 27.1 MB\n"
     ]
    }
   ],
   "source": [
    "df.info()"
   ]
  },
  {
   "cell_type": "markdown",
   "metadata": {},
   "source": [
    "Over 4 million games compressed into just 27.1 mb?! That's a really nice compression ratio and means we can maybe handle even more data in a re-do of this project."
   ]
  },
  {
   "cell_type": "markdown",
   "metadata": {},
   "source": [
    "One last thing, let's make sure the values in our dataframe are actually what we expect to see from the actual PGN file. The first two games were abandoned before any real moves were made, so we'll look at the third game in the PGN and compare it to the first game in our dataframe."
   ]
  },
  {
   "cell_type": "code",
   "execution_count": 17,
   "metadata": {},
   "outputs": [
    {
     "name": "stdout",
     "output_type": "stream",
     "text": [
      "[Event \"Rated Classical game\"]\n",
      "[Site \"https://lichess.org/HTPZ0iUA\"]\n",
      "[White \"peymit\"]\n",
      "[Black \"fajolo\"]\n",
      "[Result \"0-1\"]\n",
      "[UTCDate \"2015.11.30\"]\n",
      "[UTCTime \"23:00:01\"]\n",
      "[WhiteElo \"1286\"]\n",
      "[BlackElo \"1580\"]\n",
      "[WhiteRatingDiff \"-5\"]\n",
      "[BlackRatingDiff \"+4\"]\n",
      "[ECO \"C20\"]\n",
      "[Opening \"King's Pawn Game: Leonardis Variation\"]\n",
      "[TimeControl \"600+0\"]\n",
      "[Termination \"Normal\"]\n",
      "\n",
      "1. e4 e5 2. d3 b6 3. Nf3 Nc6 4. a3 Bb7 5. c3 Nf6 6. Be2 Be7 7. Nbd2 h6 8. Nc4 d6 9. a4 a5 10. O-O O-O 11. Nh4 Nxe4 12. dxe4 Bxh4 13. Ne3 Bg5 14. Nf5 Bxc1 15. Rxc1 Ne7 16. f3 Nxf5 17. exf5 Qg5 18. Bd3 h5 19. Qd2 Qxd2 20. Rcd1 Qg5 21. g3 h4 22. g4 Qf4 23. f6 gxf6 24. c4 Bxf3 25. Be2 Qxg4+ 26. Kf2 Qf4 27. Bxf3 e4 28. Rg1+ Kh8 29. Rg4 e3+ 30. Ke2 Qxh2+ 31. Kxe3 Rae8+ 32. Kd3 Rg8 33. Rh1 Qxh1 34. Bxh1 Rxg4 35. Be4 h3 0-1\n",
      "----------------------------------------------------------------------------------------------------------------------------------\n",
      "Game Type       2\n",
      "Result          1\n",
      "White ELO    1286\n",
      "Black ELO    1580\n",
      "Moves          35\n",
      "Name: 0, dtype: uint16\n"
     ]
    }
   ],
   "source": [
    "print(bString[757:1528].decode(\"UTF-8\"))\n",
    "print(\"-\" * 130)\n",
    "print(df.loc[0])\n"
   ]
  }
 ],
 "metadata": {
  "interpreter": {
   "hash": "3f7a7853396f4d9f9efb55f520366e7ef0075e6015321ed7a49e398828f56b08"
  },
  "kernelspec": {
   "display_name": "Python 3.9.7 ('base')",
   "language": "python",
   "name": "python3"
  },
  "language_info": {
   "codemirror_mode": {
    "name": "ipython",
    "version": 3
   },
   "file_extension": ".py",
   "mimetype": "text/x-python",
   "name": "python",
   "nbconvert_exporter": "python",
   "pygments_lexer": "ipython3",
   "version": "3.9.12"
  },
  "orig_nbformat": 4
 },
 "nbformat": 4,
 "nbformat_minor": 2
}
