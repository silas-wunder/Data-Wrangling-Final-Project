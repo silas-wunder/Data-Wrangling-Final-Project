{
 "cells": [
  {
   "cell_type": "code",
   "execution_count": 1,
   "metadata": {},
   "outputs": [],
   "source": [
    "import pandas as pd\n",
    "import numpy as np\n",
    "import urllib.request\n",
    "import bz2\n",
    "import re"
   ]
  },
  {
   "cell_type": "code",
   "execution_count": 2,
   "metadata": {},
   "outputs": [],
   "source": [
    "with urllib.request.urlopen('https://database.lichess.org/standard/lichess_db_standard_rated_2015-05.pgn.bz2') as f:\n",
    "    decompressed = bz2.BZ2File(f, 'r')\n",
    "    bString = decompressed.read()\n",
    "    # find the events strings and pull the game type\n",
    "    events = np.array([x.split(b\"\\\"\")[1].split(b\" \")[1].decode('UTF-8') for x in re.findall(b\"\\[Event.*\\]\", bString)])\n",
    "    # find the results string and pull the result only\n",
    "    results = np.array([x.split(b\"\\\"\")[1].decode('UTF-8') for x in re.findall(b\"\\[Result.*\\]\", bString)])\n",
    "    # find white's elo and pull it as an int (if ? then we set it to 0)\n",
    "    whiteELOs = np.array([int(x.split(b\"\\\"\")[1]) if x.split(b\"\\\"\")[1] != b\"?\" else 0 for x in re.findall(b\"\\[WhiteElo.*\\]\", bString)])\n",
    "    # find black's elo and pull it as an int (if ? then we set it to 0)\n",
    "    blackELOs = np.array([int(x.split(b\"\\\"\")[1]) if x.split(b\"\\\"\")[1] != b\"?\" else 0 for x in re.findall(b\"\\[BlackElo.*\\]\", bString)])\n",
    "    # find the termination type of the game\n",
    "    terminations = np.array([x.split(b\"\\\"\")[1].decode('UTF-8') for x in re.findall(b\"\\[Termination.*\\]\", bString)])\n",
    "    # find the last move recorded in the move list and pull it as an int\n",
    "    moveNums = np.array([(0 if len(re.findall(b\"\\d+\\.\", x[0])) == 0 else int(re.findall(b\"\\d+\\.\", x[0])[-1][:-1])) for x in re.findall(b\"(\\]\\\\n\\\\n.*?(0-1|1-0|1/2-1/2))\", bString)])\n",
    "    \n",
    "    all_data = np.vstack((events, results, whiteELOs, blackELOs, terminations, moveNums)).T\n",
    "    df = pd.DataFrame(all_data, columns=['Game Type', 'Result', 'White ELO', 'Black ELO', 'Termination', 'Moves'])\n",
    "    df.to_pickle('./Chess_Data.pickle')\n"
   ]
  },
  {
   "cell_type": "markdown",
   "metadata": {},
   "source": [
    "Let's check to make sure these grabbed the values we want, starting with the original PGN and then the values grabbed."
   ]
  },
  {
   "cell_type": "code",
   "execution_count": 3,
   "metadata": {},
   "outputs": [
    {
     "name": "stdout",
     "output_type": "stream",
     "text": [
      "[Event \"Rated Bullet game\"]\n",
      "[Site \"https://lichess.org/w1PkhuLY\"]\n",
      "[White \"gimmylove\"]\n",
      "[Black \"UESC\"]\n",
      "[Result \"0-1\"]\n",
      "[UTCDate \"2015.04.30\"]\n",
      "[UTCTime \"22:00:18\"]\n",
      "[WhiteElo \"1489\"]\n",
      "[BlackElo \"1797\"]\n",
      "[WhiteRatingDiff \"-3\"]\n",
      "[BlackRatingDiff \"+4\"]\n",
      "[ECO \"C01\"]\n",
      "[Opening \"French Defense: Carlson Gambit\"]\n",
      "[TimeControl \"60+0\"]\n",
      "[Termination \"Time forfeit\"]\n",
      "\n",
      "1. e4 e6 2. Nf3 d5 3. d4 dxe4 4. Ne5 Nd7 5. Qe2 Nxe5 6. dxe5 Qd4 7. Nc3 Qxe5 8. Qxe4 Qxe4+ 9. Nxe4 Nf6 10. Nxf6+ gxf6 11. Be3 Bd6 12. Bb5+ c6 13. Bd3 Bd7 14. O-O-O O-O-O 15. Be4 Kc7 16. Rd2 e5 17. Rhd1 Be6 18. g3 b6 19. Rd3 Be7 20. Rc3 Rxd1+ 21. Kxd1 Rd8+ 22. Ke2 Bd5 23. Bxd5 Rxd5 24. Rd3 Rxd3 25. Kxd3 b5 26. Ke4 Kd7 27. b3 a6 28. Bb6 Ke6 29. h3 Bb4 30. g4 Bd2 31. f3 Bf4 32. Be3 Bxe3 33. Kxe3 Kd5 34. Kd3 c5 35. Ke3 a5 36. Kd3 a4 37. Ke3 axb3 38. axb3 c4 39. b4 Ke6 40. c3 f5 0-1\n",
      "-----------------------------------------------------------------------------------------------------------------------------------------------------------------------------------------\n",
      "Game Type            Bullet\n",
      "Result                  0-1\n",
      "White ELO              1489\n",
      "Black ELO              1797\n",
      "Termination    Time forfeit\n",
      "Moves                    40\n",
      "Name: 0, dtype: object\n"
     ]
    }
   ],
   "source": [
    "print(bString[:830].decode('UTF-8'))\n",
    "\n",
    "print('-'*185)\n",
    "\n",
    "print(df.loc[0])\n"
   ]
  }
 ],
 "metadata": {
  "interpreter": {
   "hash": "3f7a7853396f4d9f9efb55f520366e7ef0075e6015321ed7a49e398828f56b08"
  },
  "kernelspec": {
   "display_name": "Python 3.9.7 ('base')",
   "language": "python",
   "name": "python3"
  },
  "language_info": {
   "codemirror_mode": {
    "name": "ipython",
    "version": 3
   },
   "file_extension": ".py",
   "mimetype": "text/x-python",
   "name": "python",
   "nbconvert_exporter": "python",
   "pygments_lexer": "ipython3",
   "version": "3.9.7"
  },
  "orig_nbformat": 4
 },
 "nbformat": 4,
 "nbformat_minor": 2
}
