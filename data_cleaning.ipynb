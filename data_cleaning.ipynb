{
 "cells": [
  {
   "cell_type": "code",
   "execution_count": 2,
   "metadata": {},
   "outputs": [],
   "source": [
    "import pandas as pd\n",
    "import numpy as np\n",
    "import urllib.request\n",
    "import bz2\n",
    "import re"
   ]
  },
  {
   "cell_type": "code",
   "execution_count": 3,
   "metadata": {},
   "outputs": [],
   "source": [
    "# Currently there are some games that have no moves and do not follow the moveNums Regex pattern. Unsure how to fix this eloquently\n",
    "\n",
    "with urllib.request.urlopen('https://database.lichess.org/standard/lichess_db_standard_rated_2014-09.pgn.bz2') as f:\n",
    "    decompressed = bz2.BZ2File(f, 'r')\n",
    "    bString = decompressed.read()\n",
    "    # find the events strings and pull the game type\n",
    "    events = np.array([x.split(b\"\\\"\")[1].split(b\" \")[1].decode('UTF-8') for x in re.findall(b\"\\[Event.*\\]\", bString)])\n",
    "    # find the results string and pull the result only\n",
    "    results = np.array([x.split(b\"\\\"\")[1].decode('UTF-8') for x in re.findall(b\"\\[Result.*\\]\", bString)])\n",
    "    # find white's elo and pull it as an int (if ? then we set it to 0)\n",
    "    whiteELOs = np.array([int(x.split(b\"\\\"\")[1]) if x.split(b\"\\\"\")[1] != b\"?\" else 0 for x in re.findall(b\"\\[WhiteElo.*\\]\", bString)])\n",
    "    # find black's elo and pull it as an int (if ? then we set it to 0)\n",
    "    blackELOs = np.array([int(x.split(b\"\\\"\")[1]) if x.split(b\"\\\"\")[1] != b\"?\" else 0 for x in re.findall(b\"\\[BlackElo.*\\]\", bString)])\n",
    "    # find the time control string and pull the game style\n",
    "    times = np.array([x.split(b\"\\\"\")[1].decode('UTF-8') for x in re.findall(b\"\\[TimeControl.*\\]\", bString)])\n",
    "    # find the termination type of the game\n",
    "    terminations = np.array([x.split(b\"\\\"\")[1].decode('UTF-8') for x in re.findall(b\"\\[Termination.*\\]\", bString)])\n",
    "    # find the last move recorded in the move list and pull it as an int\n",
    "    moveNums = np.array([(0 if len(re.findall(b\"\\d+\\.\", x[0])) == 0 else int(re.findall(b\"\\d+\\.\", x[0])[-1][:-1])) for x in re.findall(b\"(\\]\\\\n\\\\n.*?(0-1|1-0|1/2-1/2))\", bString)])\n",
    "    \n",
    "    all_data = np.vstack((events, results, whiteELOs, blackELOs, times, terminations, moveNums)).T\n",
    "    df = pd.DataFrame(all_data, columns=['Game Type', 'Result', 'White ELO', 'Black ELO', 'Time Control', 'Termination', 'Moves'])\n",
    "    df.to_pickle('./Chess_Data.pickle')\n"
   ]
  },
  {
   "cell_type": "markdown",
   "metadata": {},
   "source": [
    "Let's check to make sure these grabbed the values we want, starting with the original PGN and then the values grabbed."
   ]
  },
  {
   "cell_type": "code",
   "execution_count": 12,
   "metadata": {},
   "outputs": [
    {
     "name": "stdout",
     "output_type": "stream",
     "text": [
      "[Event \"Rated Bullet game\"]\n",
      "[Site \"https://lichess.org/1Vimq9SL\"]\n",
      "[White \"KACHAL\"]\n",
      "[Black \"justplaybi\"]\n",
      "[Result \"0-1\"]\n",
      "[UTCDate \"2014.08.31\"]\n",
      "[UTCTime \"22:00:33\"]\n",
      "[WhiteElo \"1833\"]\n",
      "[BlackElo \"1823\"]\n",
      "[WhiteRatingDiff \"-11\"]\n",
      "[BlackRatingDiff \"+12\"]\n",
      "[ECO \"A06\"]\n",
      "[Opening \"Zukertort Opening: Tennison Gambit\"]\n",
      "[TimeControl \"120+0\"]\n",
      "[Termination \"Time forfeit\"]\n",
      "\n",
      "1. e4 d5 2. Nf3 dxe4 3. Ne5 Nf6 4. d4 exd3 5. Bxd3 e6 6. Nc3 Bd6 7. Nc4 Nc6 8. Bg5 Be7 9. Qd2 Nb4 10. O-O-O Nxd3+ 11. Qxd3 Qxd3 12. Rxd3 O-O 13. Nb5 c6 14. Nc7 Rb8 15. Rg1 Nd5 16. Bxe7 Nxe7 17. Rg3 Nd5 18. Nxd5 exd5 19. Nd6 Be6 20. Rb3 b6 21. Re1 d4 22. Rg3 c5 23. Ne4 Kh8 24. f4 Bf5 25. Nd6 Be6 26. f5 Rbd8 27. fxe6 Rxd6 28. e7 Re8 29. Rf3 f6 30. Rf4 Kg8 31. Rfe4 Kf7 32. R1e2 Rd7 0-1\n",
      "----------------------------------------------------------------------------------------------------------------------------------\n",
      "Game Type             Bullet\n",
      "Result                   0-1\n",
      "White ELO               1833\n",
      "Black ELO               1823\n",
      "Time Control           120+0\n",
      "Termination     Time forfeit\n",
      "Moves                     32\n",
      "Name: 0, dtype: object\n"
     ]
    }
   ],
   "source": [
    "print(bString[:743].decode('UTF-8'))\n",
    "\n",
    "print('-'*130)\n",
    "\n",
    "print(df.loc[0,:])\n"
   ]
  }
 ],
 "metadata": {
  "interpreter": {
   "hash": "3f7a7853396f4d9f9efb55f520366e7ef0075e6015321ed7a49e398828f56b08"
  },
  "kernelspec": {
   "display_name": "Python 3.9.7 ('base')",
   "language": "python",
   "name": "python3"
  },
  "language_info": {
   "codemirror_mode": {
    "name": "ipython",
    "version": 3
   },
   "file_extension": ".py",
   "mimetype": "text/x-python",
   "name": "python",
   "nbconvert_exporter": "python",
   "pygments_lexer": "ipython3",
   "version": "3.9.7"
  },
  "orig_nbformat": 4
 },
 "nbformat": 4,
 "nbformat_minor": 2
}
