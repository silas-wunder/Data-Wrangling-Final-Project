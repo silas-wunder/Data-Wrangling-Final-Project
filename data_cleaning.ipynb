{
 "cells": [
  {
   "cell_type": "code",
   "execution_count": 2,
   "metadata": {},
   "outputs": [],
   "source": [
    "import pandas as pd\n",
    "import numpy as np\n",
    "import urllib.request\n",
    "import bz2\n",
    "import re"
   ]
  },
  {
   "cell_type": "code",
   "execution_count": 11,
   "metadata": {},
   "outputs": [],
   "source": [
    "with urllib.request.urlopen('https://database.lichess.org/standard/lichess_db_standard_rated_2015-04.pgn.bz2') as f:\n",
    "    decompressed = bz2.BZ2File(f, 'r')\n",
    "    bString = decompressed.read()\n",
    "    # find the events strings and pull the game type\n",
    "    events = np.array([x.split(b\"\\\"\")[1].split(b\" \")[1].decode('UTF-8') for x in re.findall(b\"\\[Event.*\\]\", bString)])\n",
    "    # find the results string and pull the result only\n",
    "    results = np.array([x.split(b\"\\\"\")[1].decode('UTF-8') for x in re.findall(b\"\\[Result.*\\]\", bString)])\n",
    "    # find white's elo and pull it as an int (if ? then we set it to 0)\n",
    "    whiteELOs = np.array([int(x.split(b\"\\\"\")[1]) if x.split(b\"\\\"\")[1] != b\"?\" else 0 for x in re.findall(b\"\\[WhiteElo.*\\]\", bString)])\n",
    "    # find black's elo and pull it as an int (if ? then we set it to 0)\n",
    "    blackELOs = np.array([int(x.split(b\"\\\"\")[1]) if x.split(b\"\\\"\")[1] != b\"?\" else 0 for x in re.findall(b\"\\[BlackElo.*\\]\", bString)])\n",
    "    # find the time control string and pull the game style\n",
    "    times = np.array([x.split(b\"\\\"\")[1].decode('UTF-8') for x in re.findall(b\"\\[TimeControl.*\\]\", bString)])\n",
    "    # find the termination type of the game\n",
    "    terminations = np.array([x.split(b\"\\\"\")[1].decode('UTF-8') for x in re.findall(b\"\\[Termination.*\\]\", bString)])\n",
    "    # find the last move recorded in the move list and pull it as an int\n",
    "    moveNums = np.array([(0 if len(re.findall(b\"\\d+\\.\", x[0])) == 0 else int(re.findall(b\"\\d+\\.\", x[0])[-1][:-1])) for x in re.findall(b\"(\\]\\\\n\\\\n.*?(0-1|1-0|1/2-1/2))\", bString)])\n",
    "    \n",
    "    all_data = np.vstack((events, results, whiteELOs, blackELOs, times, terminations, moveNums)).T\n",
    "    df = pd.DataFrame(all_data, columns=['Game Type', 'Result', 'White ELO', 'Black ELO', 'Time Control', 'Termination', 'Moves'])\n",
    "    df.to_pickle('./Chess_Data.pickle')\n"
   ]
  },
  {
   "cell_type": "markdown",
   "metadata": {},
   "source": [
    "Let's check to make sure these grabbed the values we want, starting with the original PGN and then the values grabbed."
   ]
  },
  {
   "cell_type": "code",
   "execution_count": 17,
   "metadata": {},
   "outputs": [
    {
     "name": "stdout",
     "output_type": "stream",
     "text": [
      "[Event \"Rated Blitz game\"]\n",
      "[Site \"https://lichess.org/2xXa7xLj\"]\n",
      "[White \"TheMagBumper\"]\n",
      "[Black \"hbustamantep\"]\n",
      "[Result \"1-0\"]\n",
      "[UTCDate \"2015.03.31\"]\n",
      "[UTCTime \"22:00:09\"]\n",
      "[WhiteElo \"1577\"]\n",
      "[BlackElo \"1383\"]\n",
      "[WhiteRatingDiff \"+5\"]\n",
      "[BlackRatingDiff \"-5\"]\n",
      "[ECO \"B06\"]\n",
      "[Opening \"Modern Defense\"]\n",
      "[TimeControl \"300+0\"]\n",
      "[Termination \"Normal\"]\n",
      "\n",
      "1. e4 g6 2. c3 e6 3. d4 Bg7 4. Nf3 a6 5. Be3 b6 6. Qd2 Bb7 7. Bd3 Ne7 8. O-O a5 9. Bh6 O-O 10. Bxg7 Kxg7 11. Qf4 Nbc6 12. Nbd2 d6 13. Qh4 e5 14. d5 Nb8 15. Ng5 Rh8 16. f4 Nd7 17. g4 c6 18. c4 h6 19. Nh3 b5 20. b3 a4 21. f5 axb3 22. f6+ Nxf6 23. Qxf6+ Kg8 24. Qxf7# 1-0\n",
      "----------------------------------------------------------------------------------------------------------------------------------\n",
      "Game Type        Blitz\n",
      "Result             1-0\n",
      "White ELO         1577\n",
      "Black ELO         1383\n",
      "Time Control     300+0\n",
      "Termination     Normal\n",
      "Moves               24\n",
      "Name: 0, dtype: object\n"
     ]
    }
   ],
   "source": [
    "print(bString[:605].decode('UTF-8'))\n",
    "\n",
    "print('-'*130)\n",
    "\n",
    "print(df.loc[0,:])\n"
   ]
  }
 ],
 "metadata": {
  "interpreter": {
   "hash": "3f7a7853396f4d9f9efb55f520366e7ef0075e6015321ed7a49e398828f56b08"
  },
  "kernelspec": {
   "display_name": "Python 3.9.7 ('base')",
   "language": "python",
   "name": "python3"
  },
  "language_info": {
   "codemirror_mode": {
    "name": "ipython",
    "version": 3
   },
   "file_extension": ".py",
   "mimetype": "text/x-python",
   "name": "python",
   "nbconvert_exporter": "python",
   "pygments_lexer": "ipython3",
   "version": "3.9.7"
  },
  "orig_nbformat": 4
 },
 "nbformat": 4,
 "nbformat_minor": 2
}
